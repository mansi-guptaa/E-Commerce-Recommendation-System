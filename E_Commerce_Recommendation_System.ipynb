{
  "cells": [
    {
      "cell_type": "markdown",
      "metadata": {
        "id": "a6AW49BEytT1"
      },
      "source": [
        "## Data Preparation"
      ]
    },
    {
      "cell_type": "markdown",
      "metadata": {
        "id": "5lDXExECxVeO"
      },
      "source": [
        "### Packages and Libraries"
      ]
    },
    {
      "cell_type": "code",
      "execution_count": 20,
      "metadata": {
        "id": "29ABjhaGxQ-A"
      },
      "outputs": [],
      "source": [
        "import numpy as np \n",
        "import pandas as pd\n",
        "import matplotlib.pyplot as plt\n",
        "import seaborn as sns\n",
        "\n",
        "from  sklearn.metrics.pairwise import cosine_similarity\n",
        "from sklearn.feature_extraction.text import TfidfVectorizer\n",
        "\n",
        "import os\n",
        "from scipy.sparse import coo_matrix\n",
        "\n",
        "\n",
        "import warnings\n",
        "warnings.filterwarnings(\"ignore\")"
      ]
    },
    {
      "cell_type": "markdown",
      "metadata": {
        "id": "GeDmpNsjybLU"
      },
      "source": [
        "### Data Loading and Preprocessing"
      ]
    },
    {
      "cell_type": "code",
      "execution_count": 21,
      "metadata": {
        "id": "xrfzBczsyNY6"
      },
      "outputs": [],
      "source": [
        "data = pd.read_csv(\"https://raw.githubusercontent.com/mansi-guptaa/E-Commerce-Recommendation-System/refs/heads/main/marketing_sample_for_walmart_com-walmart_com_product_review__20200701_20201231__5k_data.tsv\",sep = \"\\t\")\n"
      ]
    },
    {
      "cell_type": "code",
      "execution_count": 22,
      "metadata": {
        "colab": {
          "base_uri": "https://localhost:8080/"
        },
        "id": "wJy_G_Ei3bA_",
        "outputId": "63179cca-4077-44ea-c776-1a4359db8d15"
      },
      "outputs": [
        {
          "data": {
            "text/plain": [
              "Index(['Uniq Id', 'Crawl Timestamp', 'Dataset Origin', 'Product Id',\n",
              "       'Product Barcode', 'Product Company Type Source',\n",
              "       'Product Brand Source', 'Product Brand Normalised Source',\n",
              "       'Product Name Source', 'Match Rank', 'Match Score', 'Match Type',\n",
              "       'Retailer', 'Product Category', 'Product Brand', 'Product Name',\n",
              "       'Product Price', 'Sku', 'Upc', 'Product Url', 'Market',\n",
              "       'Product Description', 'Product Currency',\n",
              "       'Product Available Inventory', 'Product Image Url',\n",
              "       'Product Model Number', 'Product Tags', 'Product Contents',\n",
              "       'Product Rating', 'Product Reviews Count', 'Bsr', 'Joining Key'],\n",
              "      dtype='object')"
            ]
          },
          "execution_count": 22,
          "metadata": {},
          "output_type": "execute_result"
        }
      ],
      "source": [
        "data.columns"
      ]
    },
    {
      "cell_type": "markdown",
      "metadata": {
        "id": "mozVvkPO6ySq"
      },
      "source": [
        "### Selecting Important Columns"
      ]
    },
    {
      "cell_type": "code",
      "execution_count": 23,
      "metadata": {
        "id": "an_Z8Y5s5LHi"
      },
      "outputs": [],
      "source": [
        "new_data = data[['Uniq Id', 'Product Id', 'Product Category', 'Product Brand', 'Product Name', 'Product Description', 'Product Image Url', 'Product Tags',\n",
        "                  'Product Rating', 'Product Reviews Count']]"
      ]
    },
    {
      "cell_type": "code",
      "execution_count": 24,
      "metadata": {
        "colab": {
          "base_uri": "https://localhost:8080/",
          "height": 0
        },
        "id": "l8Ts4QkU4Vbb",
        "outputId": "a6e57953-f7ea-4ce1-bec7-a020bbf805b5"
      },
      "outputs": [
        {
          "data": {
            "text/html": [
              "<div>\n",
              "<style scoped>\n",
              "    .dataframe tbody tr th:only-of-type {\n",
              "        vertical-align: middle;\n",
              "    }\n",
              "\n",
              "    .dataframe tbody tr th {\n",
              "        vertical-align: top;\n",
              "    }\n",
              "\n",
              "    .dataframe thead th {\n",
              "        text-align: right;\n",
              "    }\n",
              "</style>\n",
              "<table border=\"1\" class=\"dataframe\">\n",
              "  <thead>\n",
              "    <tr style=\"text-align: right;\">\n",
              "      <th></th>\n",
              "      <th>Uniq Id</th>\n",
              "      <th>Product Id</th>\n",
              "      <th>Product Category</th>\n",
              "      <th>Product Brand</th>\n",
              "      <th>Product Name</th>\n",
              "      <th>Product Description</th>\n",
              "      <th>Product Image Url</th>\n",
              "      <th>Product Tags</th>\n",
              "      <th>Product Rating</th>\n",
              "      <th>Product Reviews Count</th>\n",
              "    </tr>\n",
              "  </thead>\n",
              "  <tbody>\n",
              "    <tr>\n",
              "      <th>0</th>\n",
              "      <td>1705736792d82aa2f2d3caf1c07c53f4</td>\n",
              "      <td>2e17bf4acecdece67fc00f07ad62c910</td>\n",
              "      <td>Premium Beauty &gt; Premium Makeup &gt; Premium Nail...</td>\n",
              "      <td>OPI</td>\n",
              "      <td>OPI Infinite Shine, Nail Lacquer Nail Polish, ...</td>\n",
              "      <td>NaN</td>\n",
              "      <td>https://i5.walmartimages.com/asr/0e1f4c51-c1a4...</td>\n",
              "      <td>OPI Infinite Shine, Nail Lacquer Nail Polish, ...</td>\n",
              "      <td>NaN</td>\n",
              "      <td>NaN</td>\n",
              "    </tr>\n",
              "    <tr>\n",
              "      <th>1</th>\n",
              "      <td>95a9fe6f4810fcfc7ff244fd06784f11</td>\n",
              "      <td>076e5854a62dd283c253d6bae415af1f</td>\n",
              "      <td>Beauty &gt; Hair Care &gt; Hair Color &gt; Auburn Hair ...</td>\n",
              "      <td>Nice'n Easy</td>\n",
              "      <td>Nice n Easy Permanent Color, 111 Natural Mediu...</td>\n",
              "      <td>Pack of 3 Pack of 3 for the UPC: 381519000201 ...</td>\n",
              "      <td>https://i5.walmartimages.com/asr/9c8e42e4-13a5...</td>\n",
              "      <td>Nice 'n Easy Permanent Color, 111 Natural Medi...</td>\n",
              "      <td>NaN</td>\n",
              "      <td>NaN</td>\n",
              "    </tr>\n",
              "  </tbody>\n",
              "</table>\n",
              "</div>"
            ],
            "text/plain": [
              "                            Uniq Id                        Product Id  \\\n",
              "0  1705736792d82aa2f2d3caf1c07c53f4  2e17bf4acecdece67fc00f07ad62c910   \n",
              "1  95a9fe6f4810fcfc7ff244fd06784f11  076e5854a62dd283c253d6bae415af1f   \n",
              "\n",
              "                                    Product Category Product Brand  \\\n",
              "0  Premium Beauty > Premium Makeup > Premium Nail...           OPI   \n",
              "1  Beauty > Hair Care > Hair Color > Auburn Hair ...   Nice'n Easy   \n",
              "\n",
              "                                        Product Name  \\\n",
              "0  OPI Infinite Shine, Nail Lacquer Nail Polish, ...   \n",
              "1  Nice n Easy Permanent Color, 111 Natural Mediu...   \n",
              "\n",
              "                                 Product Description  \\\n",
              "0                                                NaN   \n",
              "1  Pack of 3 Pack of 3 for the UPC: 381519000201 ...   \n",
              "\n",
              "                                   Product Image Url  \\\n",
              "0  https://i5.walmartimages.com/asr/0e1f4c51-c1a4...   \n",
              "1  https://i5.walmartimages.com/asr/9c8e42e4-13a5...   \n",
              "\n",
              "                                        Product Tags  Product Rating  \\\n",
              "0  OPI Infinite Shine, Nail Lacquer Nail Polish, ...             NaN   \n",
              "1  Nice 'n Easy Permanent Color, 111 Natural Medi...             NaN   \n",
              "\n",
              "   Product Reviews Count  \n",
              "0                    NaN  \n",
              "1                    NaN  "
            ]
          },
          "execution_count": 24,
          "metadata": {},
          "output_type": "execute_result"
        }
      ],
      "source": [
        "new_data.head(2)"
      ]
    },
    {
      "cell_type": "markdown",
      "metadata": {
        "id": "8v1mPuC566gp"
      },
      "source": [
        "### Shape of Data"
      ]
    },
    {
      "cell_type": "code",
      "execution_count": 25,
      "metadata": {
        "colab": {
          "base_uri": "https://localhost:8080/"
        },
        "id": "d_5tDPwY4t7w",
        "outputId": "17ea0756-a56a-4467-e00d-65c5009c28ff"
      },
      "outputs": [
        {
          "data": {
            "text/plain": [
              "(5000, 10)"
            ]
          },
          "execution_count": 25,
          "metadata": {},
          "output_type": "execute_result"
        }
      ],
      "source": [
        "new_data.shape"
      ]
    },
    {
      "cell_type": "markdown",
      "metadata": {
        "id": "jUHrpTUL6-uE"
      },
      "source": [
        "### Handling Null Values"
      ]
    },
    {
      "cell_type": "code",
      "execution_count": 26,
      "metadata": {
        "colab": {
          "base_uri": "https://localhost:8080/",
          "height": 0
        },
        "id": "VeJ7Bm-L40xw",
        "outputId": "122a6d15-0330-48fd-d60f-0426fd976adf"
      },
      "outputs": [
        {
          "data": {
            "text/plain": [
              "Uniq Id                     0\n",
              "Product Id                  0\n",
              "Product Category           10\n",
              "Product Brand              13\n",
              "Product Name                0\n",
              "Product Description      1127\n",
              "Product Image Url           0\n",
              "Product Tags                0\n",
              "Product Rating           2806\n",
              "Product Reviews Count    1654\n",
              "dtype: int64"
            ]
          },
          "execution_count": 26,
          "metadata": {},
          "output_type": "execute_result"
        }
      ],
      "source": [
        "new_data.isnull().sum()"
      ]
    },
    {
      "cell_type": "code",
      "execution_count": 27,
      "metadata": {
        "id": "QNUp9KwE6txZ"
      },
      "outputs": [],
      "source": [
        "new_data['Product Category'] = new_data['Product Category'].fillna(\" \")\n",
        "new_data['Product Brand'] =new_data['Product Brand'].fillna(\" \")\n",
        "new_data['Product Description'] = new_data['Product Description'].fillna(\" \")\n",
        "new_data['Product Reviews Count'] = new_data['Product Reviews Count'].fillna(0)\n",
        "new_data['Product Rating'] = new_data['Product Rating'].fillna(0)"
      ]
    },
    {
      "cell_type": "code",
      "execution_count": 28,
      "metadata": {
        "colab": {
          "base_uri": "https://localhost:8080/",
          "height": 0
        },
        "id": "HesBYli37f7P",
        "outputId": "672b3544-0e8a-46a2-8102-b0e3c3daafc2"
      },
      "outputs": [
        {
          "data": {
            "text/plain": [
              "Uniq Id                  0\n",
              "Product Id               0\n",
              "Product Category         0\n",
              "Product Brand            0\n",
              "Product Name             0\n",
              "Product Description      0\n",
              "Product Image Url        0\n",
              "Product Tags             0\n",
              "Product Rating           0\n",
              "Product Reviews Count    0\n",
              "dtype: int64"
            ]
          },
          "execution_count": 28,
          "metadata": {},
          "output_type": "execute_result"
        }
      ],
      "source": [
        "new_data.isnull().sum()"
      ]
    },
    {
      "cell_type": "markdown",
      "metadata": {
        "id": "yXaYr-g--k2I"
      },
      "source": [
        "### Renaming Columns"
      ]
    },
    {
      "cell_type": "code",
      "execution_count": 29,
      "metadata": {
        "id": "IW_31hEX9N_p"
      },
      "outputs": [],
      "source": [
        "columns_name_mapping = {'Uniq Id':'ID', 'Product Id':'ProdID', 'Product Category':'Category', 'Product Brand':'Brand',\n",
        "       'Product Name':'Name', 'Product Description':'Description', 'Product Image Url':'ImageUrl',\n",
        "       'Product Tags':'Tags', 'Product Rating':'Rating', 'Product Reviews Count':'ReviewsCount'}\n",
        "\n",
        "new_data.rename(columns = columns_name_mapping, inplace = True)"
      ]
    },
    {
      "cell_type": "markdown",
      "metadata": {
        "id": "e-yHYiMrAp9T"
      },
      "source": [
        "### Transforming Columns"
      ]
    },
    {
      "cell_type": "code",
      "execution_count": 30,
      "metadata": {
        "id": "syphdHbgAHS1"
      },
      "outputs": [],
      "source": [
        "new_data['ID'] = new_data['ID'].str.extract(r'(\\d+)').astype(float)\n",
        "new_data['ProdID'] = new_data['ProdID'].str.extract(r'(\\d+)').astype(float)"
      ]
    },
    {
      "cell_type": "code",
      "execution_count": 31,
      "metadata": {
        "colab": {
          "base_uri": "https://localhost:8080/",
          "height": 0
        },
        "id": "NhYOZO32Ak3G",
        "outputId": "0bc4304b-4c66-4f74-cf64-848a4693269d"
      },
      "outputs": [
        {
          "data": {
            "text/html": [
              "<div>\n",
              "<style scoped>\n",
              "    .dataframe tbody tr th:only-of-type {\n",
              "        vertical-align: middle;\n",
              "    }\n",
              "\n",
              "    .dataframe tbody tr th {\n",
              "        vertical-align: top;\n",
              "    }\n",
              "\n",
              "    .dataframe thead th {\n",
              "        text-align: right;\n",
              "    }\n",
              "</style>\n",
              "<table border=\"1\" class=\"dataframe\">\n",
              "  <thead>\n",
              "    <tr style=\"text-align: right;\">\n",
              "      <th></th>\n",
              "      <th>ID</th>\n",
              "      <th>ProdID</th>\n",
              "      <th>Category</th>\n",
              "      <th>Brand</th>\n",
              "      <th>Name</th>\n",
              "      <th>Description</th>\n",
              "      <th>ImageUrl</th>\n",
              "      <th>Tags</th>\n",
              "      <th>Rating</th>\n",
              "      <th>ReviewsCount</th>\n",
              "    </tr>\n",
              "  </thead>\n",
              "  <tbody>\n",
              "    <tr>\n",
              "      <th>0</th>\n",
              "      <td>1.705737e+09</td>\n",
              "      <td>2.0</td>\n",
              "      <td>Premium Beauty &gt; Premium Makeup &gt; Premium Nail...</td>\n",
              "      <td>OPI</td>\n",
              "      <td>OPI Infinite Shine, Nail Lacquer Nail Polish, ...</td>\n",
              "      <td></td>\n",
              "      <td>https://i5.walmartimages.com/asr/0e1f4c51-c1a4...</td>\n",
              "      <td>OPI Infinite Shine, Nail Lacquer Nail Polish, ...</td>\n",
              "      <td>0.0</td>\n",
              "      <td>0.0</td>\n",
              "    </tr>\n",
              "    <tr>\n",
              "      <th>1</th>\n",
              "      <td>9.500000e+01</td>\n",
              "      <td>76.0</td>\n",
              "      <td>Beauty &gt; Hair Care &gt; Hair Color &gt; Auburn Hair ...</td>\n",
              "      <td>Nice'n Easy</td>\n",
              "      <td>Nice n Easy Permanent Color, 111 Natural Mediu...</td>\n",
              "      <td>Pack of 3 Pack of 3 for the UPC: 381519000201 ...</td>\n",
              "      <td>https://i5.walmartimages.com/asr/9c8e42e4-13a5...</td>\n",
              "      <td>Nice 'n Easy Permanent Color, 111 Natural Medi...</td>\n",
              "      <td>0.0</td>\n",
              "      <td>0.0</td>\n",
              "    </tr>\n",
              "    <tr>\n",
              "      <th>2</th>\n",
              "      <td>8.000000e+00</td>\n",
              "      <td>8.0</td>\n",
              "      <td>Beauty &gt; Hair Care &gt; Hair Color &gt; Permanent Ha...</td>\n",
              "      <td>Clairol</td>\n",
              "      <td>Clairol Nice N Easy Permanent Color 7/106A Nat...</td>\n",
              "      <td>This Clairol Nice N Easy Permanent Color gives...</td>\n",
              "      <td>https://i5.walmartimages.com/asr/e3a601c2-6a2b...</td>\n",
              "      <td>Clairol Nice 'N Easy Permanent Color 7/106A Na...</td>\n",
              "      <td>4.5</td>\n",
              "      <td>29221.0</td>\n",
              "    </tr>\n",
              "  </tbody>\n",
              "</table>\n",
              "</div>"
            ],
            "text/plain": [
              "             ID  ProdID                                           Category  \\\n",
              "0  1.705737e+09     2.0  Premium Beauty > Premium Makeup > Premium Nail...   \n",
              "1  9.500000e+01    76.0  Beauty > Hair Care > Hair Color > Auburn Hair ...   \n",
              "2  8.000000e+00     8.0  Beauty > Hair Care > Hair Color > Permanent Ha...   \n",
              "\n",
              "         Brand                                               Name  \\\n",
              "0          OPI  OPI Infinite Shine, Nail Lacquer Nail Polish, ...   \n",
              "1  Nice'n Easy  Nice n Easy Permanent Color, 111 Natural Mediu...   \n",
              "2      Clairol  Clairol Nice N Easy Permanent Color 7/106A Nat...   \n",
              "\n",
              "                                         Description  \\\n",
              "0                                                      \n",
              "1  Pack of 3 Pack of 3 for the UPC: 381519000201 ...   \n",
              "2  This Clairol Nice N Easy Permanent Color gives...   \n",
              "\n",
              "                                            ImageUrl  \\\n",
              "0  https://i5.walmartimages.com/asr/0e1f4c51-c1a4...   \n",
              "1  https://i5.walmartimages.com/asr/9c8e42e4-13a5...   \n",
              "2  https://i5.walmartimages.com/asr/e3a601c2-6a2b...   \n",
              "\n",
              "                                                Tags  Rating  ReviewsCount  \n",
              "0  OPI Infinite Shine, Nail Lacquer Nail Polish, ...     0.0           0.0  \n",
              "1  Nice 'n Easy Permanent Color, 111 Natural Medi...     0.0           0.0  \n",
              "2  Clairol Nice 'N Easy Permanent Color 7/106A Na...     4.5       29221.0  "
            ]
          },
          "execution_count": 31,
          "metadata": {},
          "output_type": "execute_result"
        }
      ],
      "source": [
        "new_data.head(3)"
      ]
    },
    {
      "cell_type": "markdown",
      "metadata": {
        "id": "JFcLEP8ABgZb"
      },
      "source": [
        "### EDA"
      ]
    },
    {
      "cell_type": "code",
      "execution_count": 32,
      "metadata": {
        "colab": {
          "base_uri": "https://localhost:8080/"
        },
        "id": "6jSvCCTwBAj5",
        "outputId": "22b9c70a-6dd2-42ea-b8be-d075116a3b3f"
      },
      "outputs": [
        {
          "name": "stdout",
          "output_type": "stream",
          "text": [
            "Unique users :  1721\n",
            "Unique Products :  1697\n",
            "Unique Ratings :  36\n"
          ]
        }
      ],
      "source": [
        "num_users = new_data['ID'].nunique()\n",
        "num_items = new_data['ProdID'].nunique()\n",
        "num_rating = new_data['Rating'].nunique()\n",
        "print(\"Unique users : \", num_users)\n",
        "print(\"Unique Products : \", num_items)\n",
        "print(\"Unique Ratings : \", num_rating)"
      ]
    },
    {
      "cell_type": "code",
      "execution_count": 33,
      "metadata": {
        "colab": {
          "base_uri": "https://localhost:8080/",
          "height": 0
        },
        "id": "FmMjmHfPCkPp",
        "outputId": "536a9561-1b70-44e7-a3ce-00d5348894e6"
      },
      "outputs": [
        {
          "data": {
            "text/plain": [
              "Text(0.5, 1.0, 'Most popular Items')"
            ]
          },
          "execution_count": 33,
          "metadata": {},
          "output_type": "execute_result"
        },
        {
          "data": {
            "image/png": "[encoded data removed]",
            "text/plain": [
              "<Figure size 640x480 with 1 Axes>"
            ]
          },
          "metadata": {},
          "output_type": "display_data"
        }
      ],
      "source": [
        "popular_items = new_data['ProdID'].value_counts().head(5)\n",
        "popular_items.plot(kind = 'bar')\n",
        "plt.title(\"Most popular Items\")"
      ]
    },
    {
      "cell_type": "code",
      "execution_count": 34,
      "metadata": {
        "colab": {
          "base_uri": "https://localhost:8080/",
          "height": 0
        },
        "id": "zNHuuO-YDIH8",
        "outputId": "7907d9aa-c39d-40c2-ea8f-7b32ed14874c"
      },
      "outputs": [
        {
          "data": {
            "text/plain": [
              "Text(0.5, 1.0, 'Most popular Brand')"
            ]
          },
          "execution_count": 34,
          "metadata": {},
          "output_type": "execute_result"
        },
        {
          "data": {
            "image/png": "[encoded data removed]",
            "text/plain": [
              "<Figure size 640x480 with 1 Axes>"
            ]
          },
          "metadata": {},
          "output_type": "display_data"
        }
      ],
      "source": [
        "popular_brand = new_data['Brand'].value_counts().head(10)\n",
        "popular_brand.plot(kind = 'bar')\n",
        "plt.title(\"Most popular Brand\")"
      ]
    },
    {
      "cell_type": "code",
      "execution_count": 35,
      "metadata": {
        "colab": {
          "base_uri": "https://localhost:8080/",
          "height": 0
        },
        "id": "6hIG_H5D14rt",
        "outputId": "5a1f4feb-036a-4e2e-fcc1-80e5fa97ada4"
      },
      "outputs": [
        {
          "data": {
            "text/html": [
              "<div>\n",
              "<style scoped>\n",
              "    .dataframe tbody tr th:only-of-type {\n",
              "        vertical-align: middle;\n",
              "    }\n",
              "\n",
              "    .dataframe tbody tr th {\n",
              "        vertical-align: top;\n",
              "    }\n",
              "\n",
              "    .dataframe thead th {\n",
              "        text-align: right;\n",
              "    }\n",
              "</style>\n",
              "<table border=\"1\" class=\"dataframe\">\n",
              "  <thead>\n",
              "    <tr style=\"text-align: right;\">\n",
              "      <th></th>\n",
              "      <th>Rating</th>\n",
              "      <th>ProdID</th>\n",
              "      <th>Count</th>\n",
              "    </tr>\n",
              "  </thead>\n",
              "  <tbody>\n",
              "    <tr>\n",
              "      <th>10</th>\n",
              "      <td>5.0</td>\n",
              "      <td>3.0</td>\n",
              "      <td>25</td>\n",
              "    </tr>\n",
              "    <tr>\n",
              "      <th>11</th>\n",
              "      <td>5.0</td>\n",
              "      <td>2.0</td>\n",
              "      <td>23</td>\n",
              "    </tr>\n",
              "    <tr>\n",
              "      <th>12</th>\n",
              "      <td>5.0</td>\n",
              "      <td>0.0</td>\n",
              "      <td>23</td>\n",
              "    </tr>\n",
              "    <tr>\n",
              "      <th>13</th>\n",
              "      <td>5.0</td>\n",
              "      <td>9.0</td>\n",
              "      <td>22</td>\n",
              "    </tr>\n",
              "    <tr>\n",
              "      <th>14</th>\n",
              "      <td>5.0</td>\n",
              "      <td>7.0</td>\n",
              "      <td>20</td>\n",
              "    </tr>\n",
              "  </tbody>\n",
              "</table>\n",
              "</div>"
            ],
            "text/plain": [
              "    Rating  ProdID  Count\n",
              "10     5.0     3.0     25\n",
              "11     5.0     2.0     23\n",
              "12     5.0     0.0     23\n",
              "13     5.0     9.0     22\n",
              "14     5.0     7.0     20"
            ]
          },
          "execution_count": 35,
          "metadata": {},
          "output_type": "execute_result"
        }
      ],
      "source": [
        "# Count occurrences of each combination of 'Rating' and 'ProdID'\n",
        "top_rated_products = (\n",
        "    new_data[['Rating', 'ProdID']]\n",
        "    .value_counts()\n",
        "    .reset_index(name='Count')  # Convert to DataFrame and name the count column\n",
        "    .sort_values(by=['Rating', 'Count'], ascending=[False, False])  # Sort by Rating, then Count\n",
        "    .head(5)  # Get the top 5\n",
        ")\n",
        "\n",
        "top_rated_products\n"
      ]
    },
    {
      "cell_type": "code",
      "execution_count": 36,
      "metadata": {
        "colab": {
          "base_uri": "https://localhost:8080/",
          "height": 0
        },
        "id": "bHO-jm6kFqdg",
        "outputId": "64d010de-6bf4-4cdc-f110-a838c0cfafd0"
      },
      "outputs": [
        {
          "data": {
            "image/png": "[encoded data removed]",
            "text/plain": [
              "<Figure size 1000x600 with 1 Axes>"
            ]
          },
          "metadata": {},
          "output_type": "display_data"
        }
      ],
      "source": [
        "# Bar plot for top-rated products\n",
        "plt.figure(figsize=(10, 6))\n",
        "sns.barplot(\n",
        "    x='ProdID',\n",
        "    y='Rating',\n",
        "    data=top_rated_products,\n",
        "    hue='Count',\n",
        "    palette='viridis'\n",
        ")\n",
        "\n",
        "# Customizing the plot\n",
        "plt.title('Top 5 Rated Products', fontsize=16)\n",
        "plt.xlabel('Product ID', fontsize=12)\n",
        "plt.ylabel('Rating', fontsize=12)\n",
        "plt.legend(title='Count', loc='upper right')\n",
        "plt.xticks(fontsize=10)\n",
        "plt.yticks(fontsize=10)\n",
        "plt.tight_layout()\n",
        "plt.show()\n"
      ]
    },
    {
      "cell_type": "markdown",
      "metadata": {
        "id": "JWJpU0-8Kwn8"
      },
      "source": [
        "### Data Cleaning And Tags Creation"
      ]
    },
    {
      "cell_type": "code",
      "execution_count": 37,
      "metadata": {
        "id": "jFVuTKAsK0mk"
      },
      "outputs": [],
      "source": [
        "import spacy\n",
        "from spacy.lang.en.stop_words import STOP_WORDS\n",
        "\n",
        "nlp = spacy.load(\"en_core_web_sm\")\n",
        "\n",
        "def clean_extract_tags(text):\n",
        "  doc = nlp(text.lower())\n",
        "  tags = [token.text for token in doc if token.text.isalnum() and token.text not in STOP_WORDS]\n",
        "  return \",\".join(tags)\n",
        "\n",
        "columns_to_extarct_tags_from = ['Category', 'Brand','Description']\n",
        "\n",
        "for column in columns_to_extarct_tags_from:\n",
        "  new_data[column] = new_data[column].apply(clean_extract_tags)"
      ]
    },
    {
      "cell_type": "code",
      "execution_count": 38,
      "metadata": {
        "id": "6cd9eeXb61mg"
      },
      "outputs": [],
      "source": [
        "new_data['Tags'] = new_data[columns_to_extarct_tags_from].apply(lambda row: \",\".join(row), axis = 1)"
      ]
    },
    {
      "cell_type": "code",
      "execution_count": 39,
      "metadata": {
        "colab": {
          "base_uri": "https://localhost:8080/",
          "height": 0
        },
        "id": "7rUhy2EM9_vl",
        "outputId": "978b0aac-22a1-4296-a65d-615ea21af27e"
      },
      "outputs": [
        {
          "data": {
            "text/html": [
              "<div>\n",
              "<style scoped>\n",
              "    .dataframe tbody tr th:only-of-type {\n",
              "        vertical-align: middle;\n",
              "    }\n",
              "\n",
              "    .dataframe tbody tr th {\n",
              "        vertical-align: top;\n",
              "    }\n",
              "\n",
              "    .dataframe thead th {\n",
              "        text-align: right;\n",
              "    }\n",
              "</style>\n",
              "<table border=\"1\" class=\"dataframe\">\n",
              "  <thead>\n",
              "    <tr style=\"text-align: right;\">\n",
              "      <th></th>\n",
              "      <th>ID</th>\n",
              "      <th>ProdID</th>\n",
              "      <th>Category</th>\n",
              "      <th>Brand</th>\n",
              "      <th>Name</th>\n",
              "      <th>Description</th>\n",
              "      <th>ImageUrl</th>\n",
              "      <th>Tags</th>\n",
              "      <th>Rating</th>\n",
              "      <th>ReviewsCount</th>\n",
              "    </tr>\n",
              "  </thead>\n",
              "  <tbody>\n",
              "    <tr>\n",
              "      <th>0</th>\n",
              "      <td>1.705737e+09</td>\n",
              "      <td>2.0</td>\n",
              "      <td>premium,beauty,premium,makeup,premium,nail,pol...</td>\n",
              "      <td>opi</td>\n",
              "      <td>OPI Infinite Shine, Nail Lacquer Nail Polish, ...</td>\n",
              "      <td></td>\n",
              "      <td>https://i5.walmartimages.com/asr/0e1f4c51-c1a4...</td>\n",
              "      <td>premium,beauty,premium,makeup,premium,nail,pol...</td>\n",
              "      <td>0.0</td>\n",
              "      <td>0.0</td>\n",
              "    </tr>\n",
              "    <tr>\n",
              "      <th>1</th>\n",
              "      <td>9.500000e+01</td>\n",
              "      <td>76.0</td>\n",
              "      <td>beauty,hair,care,hair,color,auburn,hair,color</td>\n",
              "      <td>easy</td>\n",
              "      <td>Nice n Easy Permanent Color, 111 Natural Mediu...</td>\n",
              "      <td>pack,3,pack,3,upc,381519000201,beautiful,natur...</td>\n",
              "      <td>https://i5.walmartimages.com/asr/9c8e42e4-13a5...</td>\n",
              "      <td>beauty,hair,care,hair,color,auburn,hair,color,...</td>\n",
              "      <td>0.0</td>\n",
              "      <td>0.0</td>\n",
              "    </tr>\n",
              "    <tr>\n",
              "      <th>2</th>\n",
              "      <td>8.000000e+00</td>\n",
              "      <td>8.0</td>\n",
              "      <td>beauty,hair,care,hair,color,permanent,hair,color</td>\n",
              "      <td>clairol</td>\n",
              "      <td>Clairol Nice N Easy Permanent Color 7/106A Nat...</td>\n",
              "      <td>clairol,nice,n,easy,permanent,color,gives,8,we...</td>\n",
              "      <td>https://i5.walmartimages.com/asr/e3a601c2-6a2b...</td>\n",
              "      <td>beauty,hair,care,hair,color,permanent,hair,col...</td>\n",
              "      <td>4.5</td>\n",
              "      <td>29221.0</td>\n",
              "    </tr>\n",
              "    <tr>\n",
              "      <th>3</th>\n",
              "      <td>4.000000e+00</td>\n",
              "      <td>3.0</td>\n",
              "      <td>beauty,makeup,lip</td>\n",
              "      <td>kokie,cosmetics</td>\n",
              "      <td>Kokie Professional Matte Lipstick, Hot Berry, ...</td>\n",
              "      <td>calling,matte,lip,lovers,indulge,rich,creamy,m...</td>\n",
              "      <td>https://i5.walmartimages.com/asr/25b4b467-bc61...</td>\n",
              "      <td>beauty,makeup,lip,kokie,cosmetics,calling,matt...</td>\n",
              "      <td>0.0</td>\n",
              "      <td>0.0</td>\n",
              "    </tr>\n",
              "    <tr>\n",
              "      <th>4</th>\n",
              "      <td>9.900000e+02</td>\n",
              "      <td>3.0</td>\n",
              "      <td>seasonal,stock,essentials,personal,care,stock,...</td>\n",
              "      <td>gillette</td>\n",
              "      <td>Gillette TRAC II Plus Razor Blade Refills, Fit...</td>\n",
              "      <td>1971,gillette,introduced,trac,ii,razor,system,...</td>\n",
              "      <td>https://i5.walmartimages.com/asr/1a2ebb06-cd01...</td>\n",
              "      <td>seasonal,stock,essentials,personal,care,stock,...</td>\n",
              "      <td>0.0</td>\n",
              "      <td>131.0</td>\n",
              "    </tr>\n",
              "  </tbody>\n",
              "</table>\n",
              "</div>"
            ],
            "text/plain": [
              "             ID  ProdID                                           Category  \\\n",
              "0  1.705737e+09     2.0  premium,beauty,premium,makeup,premium,nail,pol...   \n",
              "1  9.500000e+01    76.0      beauty,hair,care,hair,color,auburn,hair,color   \n",
              "2  8.000000e+00     8.0   beauty,hair,care,hair,color,permanent,hair,color   \n",
              "3  4.000000e+00     3.0                                  beauty,makeup,lip   \n",
              "4  9.900000e+02     3.0  seasonal,stock,essentials,personal,care,stock,...   \n",
              "\n",
              "             Brand                                               Name  \\\n",
              "0              opi  OPI Infinite Shine, Nail Lacquer Nail Polish, ...   \n",
              "1             easy  Nice n Easy Permanent Color, 111 Natural Mediu...   \n",
              "2          clairol  Clairol Nice N Easy Permanent Color 7/106A Nat...   \n",
              "3  kokie,cosmetics  Kokie Professional Matte Lipstick, Hot Berry, ...   \n",
              "4         gillette  Gillette TRAC II Plus Razor Blade Refills, Fit...   \n",
              "\n",
              "                                         Description  \\\n",
              "0                                                      \n",
              "1  pack,3,pack,3,upc,381519000201,beautiful,natur...   \n",
              "2  clairol,nice,n,easy,permanent,color,gives,8,we...   \n",
              "3  calling,matte,lip,lovers,indulge,rich,creamy,m...   \n",
              "4  1971,gillette,introduced,trac,ii,razor,system,...   \n",
              "\n",
              "                                            ImageUrl  \\\n",
              "0  https://i5.walmartimages.com/asr/0e1f4c51-c1a4...   \n",
              "1  https://i5.walmartimages.com/asr/9c8e42e4-13a5...   \n",
              "2  https://i5.walmartimages.com/asr/e3a601c2-6a2b...   \n",
              "3  https://i5.walmartimages.com/asr/25b4b467-bc61...   \n",
              "4  https://i5.walmartimages.com/asr/1a2ebb06-cd01...   \n",
              "\n",
              "                                                Tags  Rating  ReviewsCount  \n",
              "0  premium,beauty,premium,makeup,premium,nail,pol...     0.0           0.0  \n",
              "1  beauty,hair,care,hair,color,auburn,hair,color,...     0.0           0.0  \n",
              "2  beauty,hair,care,hair,color,permanent,hair,col...     4.5       29221.0  \n",
              "3  beauty,makeup,lip,kokie,cosmetics,calling,matt...     0.0           0.0  \n",
              "4  seasonal,stock,essentials,personal,care,stock,...     0.0         131.0  "
            ]
          },
          "execution_count": 39,
          "metadata": {},
          "output_type": "execute_result"
        }
      ],
      "source": [
        "new_data.head()"
      ]
    },
    {
      "cell_type": "markdown",
      "metadata": {
        "id": "rsei6deS9Y90"
      },
      "source": [
        "## Rating Base Recommendation System"
      ]
    },
    {
      "cell_type": "code",
      "execution_count": 40,
      "metadata": {
        "id": "yixkifqj9Yqq"
      },
      "outputs": [],
      "source": [
        "average_rating = new_data.groupby(['Name','ReviewsCount', 'Brand', 'ImageUrl'])['Rating'].mean().reset_index()\n",
        "top_rated_items = average_rating.sort_values(by= 'Rating', ascending = False)\n",
        "\n",
        "rating_base_recommmendations = top_rated_items.head(10)"
      ]
    },
    {
      "cell_type": "code",
      "execution_count": 41,
      "metadata": {
        "id": "KuZs-WOAASIq"
      },
      "outputs": [],
      "source": [
        "rating_base_recommmendations['ReviewsCount'] = rating_base_recommmendations['ReviewsCount'].astype(int)\n",
        "rating_base_recommmendations['Rating'] = rating_base_recommmendations['Rating'].astype(int)"
      ]
    },
    {
      "cell_type": "code",
      "execution_count": 42,
      "metadata": {
        "colab": {
          "base_uri": "https://localhost:8080/",
          "height": 0
        },
        "id": "YTdNEedlAlAW",
        "outputId": "cf754cb7-9099-4d31-c1f7-155247a72f68"
      },
      "outputs": [
        {
          "name": "stdout",
          "output_type": "stream",
          "text": [
            "Rating Base Rcommendation System : (Trending Products)\n"
          ]
        },
        {
          "data": {
            "text/html": [
              "<div>\n",
              "<style scoped>\n",
              "    .dataframe tbody tr th:only-of-type {\n",
              "        vertical-align: middle;\n",
              "    }\n",
              "\n",
              "    .dataframe tbody tr th {\n",
              "        vertical-align: top;\n",
              "    }\n",
              "\n",
              "    .dataframe thead th {\n",
              "        text-align: right;\n",
              "    }\n",
              "</style>\n",
              "<table border=\"1\" class=\"dataframe\">\n",
              "  <thead>\n",
              "    <tr style=\"text-align: right;\">\n",
              "      <th></th>\n",
              "      <th>Name</th>\n",
              "      <th>ReviewsCount</th>\n",
              "      <th>Brand</th>\n",
              "      <th>ImageUrl</th>\n",
              "      <th>Rating</th>\n",
              "    </tr>\n",
              "  </thead>\n",
              "  <tbody>\n",
              "    <tr>\n",
              "      <th>1</th>\n",
              "      <td>($100 Value) Peter Thomas Roth Thermal Therapy...</td>\n",
              "      <td>1</td>\n",
              "      <td>peter,thomas,roth</td>\n",
              "      <td>https://i5.walmartimages.com/asr/ecd851ef-6ca7...</td>\n",
              "      <td>5</td>\n",
              "    </tr>\n",
              "    <tr>\n",
              "      <th>4959</th>\n",
              "      <td>got2b Kinkier Curling Mousse 8 oz (Pack of 2)</td>\n",
              "      <td>1</td>\n",
              "      <td>göt2b</td>\n",
              "      <td>https://i5.walmartimages.com/asr/9e656b95-79f6...</td>\n",
              "      <td>5</td>\n",
              "    </tr>\n",
              "    <tr>\n",
              "      <th>6</th>\n",
              "      <td>($14 Value) Burts Bees Beeswax Bounty Classic ...</td>\n",
              "      <td>10</td>\n",
              "      <td>burt,bees</td>\n",
              "      <td>https://i5.walmartimages.com/asr/bfbb58dc-8199...</td>\n",
              "      <td>5</td>\n",
              "    </tr>\n",
              "    <tr>\n",
              "      <th>1208</th>\n",
              "      <td>Clairol Professional Beautiful Collection Semi...</td>\n",
              "      <td>1</td>\n",
              "      <td>clairol</td>\n",
              "      <td>https://i5.walmartimages.com/asr/31562542-b683...</td>\n",
              "      <td>5</td>\n",
              "    </tr>\n",
              "    <tr>\n",
              "      <th>1216</th>\n",
              "      <td>Clairol Textures &amp; Tones 4RC Cherrywood, 1 ea ...</td>\n",
              "      <td>1</td>\n",
              "      <td>clairol</td>\n",
              "      <td>https://i5.walmartimages.com/asr/78f33717-0104...</td>\n",
              "      <td>5</td>\n",
              "    </tr>\n",
              "    <tr>\n",
              "      <th>1228</th>\n",
              "      <td>Clay-Park Labs Ammonium Lactate Lotion 12% 14 ...</td>\n",
              "      <td>13</td>\n",
              "      <td>clay,park,labs</td>\n",
              "      <td>https://i5.walmartimages.com/asr/b3d5462d-d067...</td>\n",
              "      <td>5</td>\n",
              "    </tr>\n",
              "    <tr>\n",
              "      <th>4857</th>\n",
              "      <td>Yosoo Reusable Sanitary Pads with Wings, 9 Typ...</td>\n",
              "      <td>1</td>\n",
              "      <td>yosoo</td>\n",
              "      <td>https://i5.walmartimages.com/asr/5645ee43-e26f...</td>\n",
              "      <td>5</td>\n",
              "    </tr>\n",
              "    <tr>\n",
              "      <th>4862</th>\n",
              "      <td>ZINSSER &amp; CO Jomax 1-Qt. Mold &amp; Mildew Stain R...</td>\n",
              "      <td>1</td>\n",
              "      <td>jomax</td>\n",
              "      <td>https://i5.walmartimages.com/asr/d04c8d61-023a...</td>\n",
              "      <td>5</td>\n",
              "    </tr>\n",
              "    <tr>\n",
              "      <th>4892</th>\n",
              "      <td>all Free Clear For Sensitive Skin, 110 Loads, ...</td>\n",
              "      <td>4</td>\n",
              "      <td></td>\n",
              "      <td>https://i5.walmartimages.com/asr/9ccd3c7b-f479...</td>\n",
              "      <td>5</td>\n",
              "    </tr>\n",
              "    <tr>\n",
              "      <th>33</th>\n",
              "      <td>($55 Value) Clarins Multi-Active Day Face Crea...</td>\n",
              "      <td>2</td>\n",
              "      <td>clarins</td>\n",
              "      <td>https://i5.walmartimages.com/asr/894b62ab-76d2...</td>\n",
              "      <td>5</td>\n",
              "    </tr>\n",
              "  </tbody>\n",
              "</table>\n",
              "</div>"
            ],
            "text/plain": [
              "                                                   Name  ReviewsCount  \\\n",
              "1     ($100 Value) Peter Thomas Roth Thermal Therapy...             1   \n",
              "4959      got2b Kinkier Curling Mousse 8 oz (Pack of 2)             1   \n",
              "6     ($14 Value) Burts Bees Beeswax Bounty Classic ...            10   \n",
              "1208  Clairol Professional Beautiful Collection Semi...             1   \n",
              "1216  Clairol Textures & Tones 4RC Cherrywood, 1 ea ...             1   \n",
              "1228  Clay-Park Labs Ammonium Lactate Lotion 12% 14 ...            13   \n",
              "4857  Yosoo Reusable Sanitary Pads with Wings, 9 Typ...             1   \n",
              "4862  ZINSSER & CO Jomax 1-Qt. Mold & Mildew Stain R...             1   \n",
              "4892  all Free Clear For Sensitive Skin, 110 Loads, ...             4   \n",
              "33    ($55 Value) Clarins Multi-Active Day Face Crea...             2   \n",
              "\n",
              "                  Brand                                           ImageUrl  \\\n",
              "1     peter,thomas,roth  https://i5.walmartimages.com/asr/ecd851ef-6ca7...   \n",
              "4959              göt2b  https://i5.walmartimages.com/asr/9e656b95-79f6...   \n",
              "6             burt,bees  https://i5.walmartimages.com/asr/bfbb58dc-8199...   \n",
              "1208            clairol  https://i5.walmartimages.com/asr/31562542-b683...   \n",
              "1216            clairol  https://i5.walmartimages.com/asr/78f33717-0104...   \n",
              "1228     clay,park,labs  https://i5.walmartimages.com/asr/b3d5462d-d067...   \n",
              "4857              yosoo  https://i5.walmartimages.com/asr/5645ee43-e26f...   \n",
              "4862              jomax  https://i5.walmartimages.com/asr/d04c8d61-023a...   \n",
              "4892                     https://i5.walmartimages.com/asr/9ccd3c7b-f479...   \n",
              "33              clarins  https://i5.walmartimages.com/asr/894b62ab-76d2...   \n",
              "\n",
              "      Rating  \n",
              "1          5  \n",
              "4959       5  \n",
              "6          5  \n",
              "1208       5  \n",
              "1216       5  \n",
              "1228       5  \n",
              "4857       5  \n",
              "4862       5  \n",
              "4892       5  \n",
              "33         5  "
            ]
          },
          "execution_count": 42,
          "metadata": {},
          "output_type": "execute_result"
        }
      ],
      "source": [
        "print(\"Rating Base Rcommendation System : (Trending Products)\")\n",
        "rating_base_recommmendations"
      ]
    },
    {
      "cell_type": "markdown",
      "metadata": {
        "id": "dVWeqElDC4qI"
      },
      "source": [
        "## Content Base Recommendation System(User Prefrence and Item Similarities)"
      ]
    },
    {
      "cell_type": "code",
      "execution_count": 43,
      "metadata": {
        "id": "TdbnEEX46Ykd"
      },
      "outputs": [],
      "source": [
        "def content_base_recommendation_system(new_data, item_name, top_n = 10):\n",
        "  if item_name not in new_data['Name'].values:\n",
        "    print(f'Item {item_name} not found in the database')\n",
        "    return pd.DataFrame()\n",
        "\n",
        "  tfidf_vectorizer = TfidfVectorizer(stop_words = 'english')\n",
        "  tfidf_matrix_content = tfidf_vectorizer.fit_transform( new_data['Tags'])\n",
        "  cosine_similarity_content = cosine_similarity(tfidf_matrix_content, tfidf_matrix_content)\n",
        "\n",
        "  item_index = new_data[new_data['Name'] == item_name].index[0]\n",
        "  similar_item = list(enumerate(cosine_similarity_content[item_index]))\n",
        "  sorted_similar_item = sorted(similar_item, key = lambda x: x[1], reverse = True)\n",
        "  top_similar_item = sorted_similar_item[:top_n]\n",
        "  recommended_similar_index = [x[0] for x in top_similar_item]\n",
        "  recommended_item_details = new_data.iloc[recommended_similar_index][['Name','ReviewsCount', 'Brand', 'ImageUrl','Rating']]\n",
        "\n",
        "  return recommended_item_details\n",
        "\n"
      ]
    },
    {
      "cell_type": "code",
      "execution_count": 44,
      "metadata": {
        "colab": {
          "base_uri": "https://localhost:8080/",
          "height": 0
        },
        "id": "XhJLlWQ27o-Z",
        "outputId": "023af15f-78d7-4eeb-9d49-dfa25007e51d"
      },
      "outputs": [
        {
          "data": {
            "text/html": [
              "<div>\n",
              "<style scoped>\n",
              "    .dataframe tbody tr th:only-of-type {\n",
              "        vertical-align: middle;\n",
              "    }\n",
              "\n",
              "    .dataframe tbody tr th {\n",
              "        vertical-align: top;\n",
              "    }\n",
              "\n",
              "    .dataframe thead th {\n",
              "        text-align: right;\n",
              "    }\n",
              "</style>\n",
              "<table border=\"1\" class=\"dataframe\">\n",
              "  <thead>\n",
              "    <tr style=\"text-align: right;\">\n",
              "      <th></th>\n",
              "      <th>Name</th>\n",
              "      <th>ReviewsCount</th>\n",
              "      <th>Brand</th>\n",
              "      <th>ImageUrl</th>\n",
              "      <th>Rating</th>\n",
              "    </tr>\n",
              "  </thead>\n",
              "  <tbody>\n",
              "    <tr>\n",
              "      <th>3</th>\n",
              "      <td>Kokie Professional Matte Lipstick, Hot Berry, ...</td>\n",
              "      <td>0.0</td>\n",
              "      <td>kokie,cosmetics</td>\n",
              "      <td>https://i5.walmartimages.com/asr/25b4b467-bc61...</td>\n",
              "      <td>0.0</td>\n",
              "    </tr>\n",
              "    <tr>\n",
              "      <th>3406</th>\n",
              "      <td>Kokie Professional Matte Lipstick, Firecracker...</td>\n",
              "      <td>0.0</td>\n",
              "      <td>kokie,cosmetics</td>\n",
              "      <td>https://i5.walmartimages.com/asr/8312221b-ed22...</td>\n",
              "      <td>0.0</td>\n",
              "    </tr>\n",
              "    <tr>\n",
              "      <th>546</th>\n",
              "      <td>Kokie Professional Matte Lipstick, Kiss Me, 0....</td>\n",
              "      <td>0.0</td>\n",
              "      <td>kokie,cosmetics</td>\n",
              "      <td>https://i5.walmartimages.com/asr/27dd82a2-2b9c...</td>\n",
              "      <td>0.0</td>\n",
              "    </tr>\n",
              "    <tr>\n",
              "      <th>2406</th>\n",
              "      <td>L.A. Colors Matte Lipstick, Tender Matte</td>\n",
              "      <td>3.0</td>\n",
              "      <td>colors</td>\n",
              "      <td>https://i5.walmartimages.com/asr/271264fb-e8c3...</td>\n",
              "      <td>3.7</td>\n",
              "    </tr>\n",
              "    <tr>\n",
              "      <th>4050</th>\n",
              "      <td>Kokie Professional Lip Poudre Liquid Matte Liq...</td>\n",
              "      <td>7.0</td>\n",
              "      <td>kokie,cosmetics</td>\n",
              "      <td>https://i5.walmartimages.com/asr/fdd7498c-319f...</td>\n",
              "      <td>3.4</td>\n",
              "    </tr>\n",
              "    <tr>\n",
              "      <th>4084</th>\n",
              "      <td>e.l.f. Mad for Matte 4 Piece Lip Color Set</td>\n",
              "      <td>0.0</td>\n",
              "      <td>cosmetics</td>\n",
              "      <td>https://i5.walmartimages.com/asr/e2d30304-edc9...</td>\n",
              "      <td>0.0</td>\n",
              "    </tr>\n",
              "    <tr>\n",
              "      <th>1559</th>\n",
              "      <td>LOreal Paris Colour Riche Matte Lip Liner, Mat...</td>\n",
              "      <td>495.0</td>\n",
              "      <td>paris</td>\n",
              "      <td>https://i5.walmartimages.com/asr/baf97085-7231...</td>\n",
              "      <td>4.4</td>\n",
              "    </tr>\n",
              "    <tr>\n",
              "      <th>2873</th>\n",
              "      <td>Kokie Professional Lip Poudre Liquid Matte Liq...</td>\n",
              "      <td>7.0</td>\n",
              "      <td>kokie,cosmetics</td>\n",
              "      <td>https://i5.walmartimages.com/asr/31c99d9b-ea11...</td>\n",
              "      <td>3.4</td>\n",
              "    </tr>\n",
              "  </tbody>\n",
              "</table>\n",
              "</div>"
            ],
            "text/plain": [
              "                                                   Name  ReviewsCount  \\\n",
              "3     Kokie Professional Matte Lipstick, Hot Berry, ...           0.0   \n",
              "3406  Kokie Professional Matte Lipstick, Firecracker...           0.0   \n",
              "546   Kokie Professional Matte Lipstick, Kiss Me, 0....           0.0   \n",
              "2406           L.A. Colors Matte Lipstick, Tender Matte           3.0   \n",
              "4050  Kokie Professional Lip Poudre Liquid Matte Liq...           7.0   \n",
              "4084         e.l.f. Mad for Matte 4 Piece Lip Color Set           0.0   \n",
              "1559  LOreal Paris Colour Riche Matte Lip Liner, Mat...         495.0   \n",
              "2873  Kokie Professional Lip Poudre Liquid Matte Liq...           7.0   \n",
              "\n",
              "                Brand                                           ImageUrl  \\\n",
              "3     kokie,cosmetics  https://i5.walmartimages.com/asr/25b4b467-bc61...   \n",
              "3406  kokie,cosmetics  https://i5.walmartimages.com/asr/8312221b-ed22...   \n",
              "546   kokie,cosmetics  https://i5.walmartimages.com/asr/27dd82a2-2b9c...   \n",
              "2406           colors  https://i5.walmartimages.com/asr/271264fb-e8c3...   \n",
              "4050  kokie,cosmetics  https://i5.walmartimages.com/asr/fdd7498c-319f...   \n",
              "4084        cosmetics  https://i5.walmartimages.com/asr/e2d30304-edc9...   \n",
              "1559            paris  https://i5.walmartimages.com/asr/baf97085-7231...   \n",
              "2873  kokie,cosmetics  https://i5.walmartimages.com/asr/31c99d9b-ea11...   \n",
              "\n",
              "      Rating  \n",
              "3        0.0  \n",
              "3406     0.0  \n",
              "546      0.0  \n",
              "2406     3.7  \n",
              "4050     3.4  \n",
              "4084     0.0  \n",
              "1559     4.4  \n",
              "2873     3.4  "
            ]
          },
          "execution_count": 44,
          "metadata": {},
          "output_type": "execute_result"
        }
      ],
      "source": [
        "item_name = 'Kokie Professional Matte Lipstick, Hot Berry, 0.14 fl oz'\n",
        "content_based_recommendation = content_base_recommendation_system(new_data, item_name, top_n = 8)\n",
        "content_based_recommendation"
      ]
    },
    {
      "cell_type": "markdown",
      "metadata": {
        "id": "gTZmqbsjBlvh"
      },
      "source": [
        "## Collaborative Filtering Recommendation System(User item Similarity)"
      ]
    },
    {
      "cell_type": "code",
      "execution_count": 45,
      "metadata": {
        "id": "SAmxIZz7IGMp"
      },
      "outputs": [],
      "source": [
        "def Collaborative_Filtering_Recommendation_System(new_data, target_user_id, top_n = 10):\n",
        "  user_item_matrix = new_data.pivot_table(index = 'ID', columns = 'ProdID', values = 'Rating', aggfunc = 'mean').fillna(0).astype(int)\n",
        "  user_similarity = cosine_similarity(user_item_matrix)\n",
        "\n",
        "  target_user_index = user_item_matrix.index.get_loc(target_user_id)\n",
        "  target_user_similarity = user_similarity[target_user_index]\n",
        "  similar_user_index = target_user_similarity.argsort()[::-1][1:]\n",
        "\n",
        "  recommended_items = []\n",
        "  for user_index in similar_user_index:\n",
        "    rated_by_similar_user = user_item_matrix.iloc[user_index]\n",
        "    not_rated_by_target_user = (rated_by_similar_user == 0) & (user_item_matrix.iloc[target_user_index] == 0)\n",
        "\n",
        "    recommended_items.extend(user_item_matrix.columns[not_rated_by_target_user][:top_n])\n",
        "\n",
        "  recommended_item_details = new_data[new_data['ProdID'].isin(recommended_items)][['Name', 'ReviewsCount', 'Brand','ImageUrl','Rating']]\n",
        "\n",
        "  return recommended_item_details\n"
      ]
    },
    {
      "cell_type": "code",
      "execution_count": 46,
      "metadata": {
        "colab": {
          "base_uri": "https://localhost:8080/",
          "height": 224
        },
        "id": "wb0Yj84oIyvl",
        "outputId": "52fbfa8a-d40d-4956-b355-8c12536a5734"
      },
      "outputs": [
        {
          "name": "stdout",
          "output_type": "stream",
          "text": [
            "Top 5 recommendations for user_id 4:\n"
          ]
        },
        {
          "data": {
            "text/html": [
              "<div>\n",
              "<style scoped>\n",
              "    .dataframe tbody tr th:only-of-type {\n",
              "        vertical-align: middle;\n",
              "    }\n",
              "\n",
              "    .dataframe tbody tr th {\n",
              "        vertical-align: top;\n",
              "    }\n",
              "\n",
              "    .dataframe thead th {\n",
              "        text-align: right;\n",
              "    }\n",
              "</style>\n",
              "<table border=\"1\" class=\"dataframe\">\n",
              "  <thead>\n",
              "    <tr style=\"text-align: right;\">\n",
              "      <th></th>\n",
              "      <th>Name</th>\n",
              "      <th>ReviewsCount</th>\n",
              "      <th>Brand</th>\n",
              "      <th>ImageUrl</th>\n",
              "      <th>Rating</th>\n",
              "    </tr>\n",
              "  </thead>\n",
              "  <tbody>\n",
              "    <tr>\n",
              "      <th>15</th>\n",
              "      <td>Clairol Natural Instincts Demi-Permanent Hair ...</td>\n",
              "      <td>2935.0</td>\n",
              "      <td>clairol</td>\n",
              "      <td>https://i5.walmartimages.com/asr/00a6e54a-e431...</td>\n",
              "      <td>3.7</td>\n",
              "    </tr>\n",
              "    <tr>\n",
              "      <th>33</th>\n",
              "      <td>DenTek Kids Fun Flossers, Removes Food &amp; Plaqu...</td>\n",
              "      <td>3.0</td>\n",
              "      <td>dentek</td>\n",
              "      <td>https://i5.walmartimages.com/asr/de6e52eb-6e18...</td>\n",
              "      <td>0.0</td>\n",
              "    </tr>\n",
              "    <tr>\n",
              "      <th>61</th>\n",
              "      <td>COVERGIRL Exhibitionist Cream Lipstick, 395 Da...</td>\n",
              "      <td>713.0</td>\n",
              "      <td>covergirl</td>\n",
              "      <td>https://i5.walmartimages.com/asr/95076ec0-ffbd...</td>\n",
              "      <td>4.3</td>\n",
              "    </tr>\n",
              "    <tr>\n",
              "      <th>64</th>\n",
              "      <td>Neutrogena SkinClearing Oil-Free Liquid Founda...</td>\n",
              "      <td>741.0</td>\n",
              "      <td>neutrogena</td>\n",
              "      <td>https://i5.walmartimages.com/asr/fd4d78d8-310a...</td>\n",
              "      <td>4.2</td>\n",
              "    </tr>\n",
              "    <tr>\n",
              "      <th>69</th>\n",
              "      <td>Design Essentials Natural Coconut &amp; Monoi Curl...</td>\n",
              "      <td>1.0</td>\n",
              "      <td>design,essentials</td>\n",
              "      <td>https://i5.walmartimages.com/asr/ff2dba1d-0c02...</td>\n",
              "      <td>5.0</td>\n",
              "    </tr>\n",
              "  </tbody>\n",
              "</table>\n",
              "</div>"
            ],
            "text/plain": [
              "                                                 Name  ReviewsCount  \\\n",
              "15  Clairol Natural Instincts Demi-Permanent Hair ...        2935.0   \n",
              "33  DenTek Kids Fun Flossers, Removes Food & Plaqu...           3.0   \n",
              "61  COVERGIRL Exhibitionist Cream Lipstick, 395 Da...         713.0   \n",
              "64  Neutrogena SkinClearing Oil-Free Liquid Founda...         741.0   \n",
              "69  Design Essentials Natural Coconut & Monoi Curl...           1.0   \n",
              "\n",
              "                Brand                                           ImageUrl  \\\n",
              "15            clairol  https://i5.walmartimages.com/asr/00a6e54a-e431...   \n",
              "33             dentek  https://i5.walmartimages.com/asr/de6e52eb-6e18...   \n",
              "61          covergirl  https://i5.walmartimages.com/asr/95076ec0-ffbd...   \n",
              "64         neutrogena  https://i5.walmartimages.com/asr/fd4d78d8-310a...   \n",
              "69  design,essentials  https://i5.walmartimages.com/asr/ff2dba1d-0c02...   \n",
              "\n",
              "    Rating  \n",
              "15     3.7  \n",
              "33     0.0  \n",
              "61     4.3  \n",
              "64     4.2  \n",
              "69     5.0  "
            ]
          },
          "execution_count": 46,
          "metadata": {},
          "output_type": "execute_result"
        }
      ],
      "source": [
        "target_user_id=4\n",
        "top_n = 5\n",
        "Collaborative_Filtering_Recommendation = Collaborative_Filtering_Recommendation_System(new_data, target_user_id).head(5)\n",
        "print(f'Top {top_n} recommendations for user_id {target_user_id}:')\n",
        "Collaborative_Filtering_Recommendation"
      ]
    },
    {
      "cell_type": "markdown",
      "metadata": {
        "id": "rYML_iju2hoT"
      },
      "source": [
        "## Hybrid Recommendation System"
      ]
    },
    {
      "cell_type": "code",
      "execution_count": 47,
      "metadata": {
        "id": "NnjUcndy2nJ1"
      },
      "outputs": [],
      "source": [
        "def hybrid_recommendation_system(new_data, target_user_id, item_name, top_n = 10):\n",
        "  content_base_rec = content_base_recommendation_system(new_data, item_name, top_n = 10)\n",
        "  collaborative_base_rec = Collaborative_Filtering_Recommendation_System(new_data, target_user_id, top_n = 10)\n",
        "\n",
        "  hybrid_base_rec = pd.concat([content_base_rec,collaborative_base_rec]).drop_duplicates()\n",
        "\n",
        "  return hybrid_base_rec.head(10)\n"
      ]
    },
    {
      "cell_type": "code",
      "execution_count": 48,
      "metadata": {
        "colab": {
          "base_uri": "https://localhost:8080/",
          "height": 381
        },
        "id": "ijLSZGDkJcfD",
        "outputId": "6c4c8435-f5a5-4398-a77d-d348155dcc0d"
      },
      "outputs": [
        {
          "name": "stdout",
          "output_type": "stream",
          "text": [
            "Top 10 Hybrid Recommendation System are:\n"
          ]
        },
        {
          "data": {
            "text/html": [
              "<div>\n",
              "<style scoped>\n",
              "    .dataframe tbody tr th:only-of-type {\n",
              "        vertical-align: middle;\n",
              "    }\n",
              "\n",
              "    .dataframe tbody tr th {\n",
              "        vertical-align: top;\n",
              "    }\n",
              "\n",
              "    .dataframe thead th {\n",
              "        text-align: right;\n",
              "    }\n",
              "</style>\n",
              "<table border=\"1\" class=\"dataframe\">\n",
              "  <thead>\n",
              "    <tr style=\"text-align: right;\">\n",
              "      <th></th>\n",
              "      <th>Name</th>\n",
              "      <th>ReviewsCount</th>\n",
              "      <th>Brand</th>\n",
              "      <th>ImageUrl</th>\n",
              "      <th>Rating</th>\n",
              "    </tr>\n",
              "  </thead>\n",
              "  <tbody>\n",
              "    <tr>\n",
              "      <th>3</th>\n",
              "      <td>Kokie Professional Matte Lipstick, Hot Berry, ...</td>\n",
              "      <td>0.0</td>\n",
              "      <td>kokie,cosmetics</td>\n",
              "      <td>https://i5.walmartimages.com/asr/25b4b467-bc61...</td>\n",
              "      <td>0.0</td>\n",
              "    </tr>\n",
              "    <tr>\n",
              "      <th>3406</th>\n",
              "      <td>Kokie Professional Matte Lipstick, Firecracker...</td>\n",
              "      <td>0.0</td>\n",
              "      <td>kokie,cosmetics</td>\n",
              "      <td>https://i5.walmartimages.com/asr/8312221b-ed22...</td>\n",
              "      <td>0.0</td>\n",
              "    </tr>\n",
              "    <tr>\n",
              "      <th>546</th>\n",
              "      <td>Kokie Professional Matte Lipstick, Kiss Me, 0....</td>\n",
              "      <td>0.0</td>\n",
              "      <td>kokie,cosmetics</td>\n",
              "      <td>https://i5.walmartimages.com/asr/27dd82a2-2b9c...</td>\n",
              "      <td>0.0</td>\n",
              "    </tr>\n",
              "    <tr>\n",
              "      <th>2406</th>\n",
              "      <td>L.A. Colors Matte Lipstick, Tender Matte</td>\n",
              "      <td>3.0</td>\n",
              "      <td>colors</td>\n",
              "      <td>https://i5.walmartimages.com/asr/271264fb-e8c3...</td>\n",
              "      <td>3.7</td>\n",
              "    </tr>\n",
              "    <tr>\n",
              "      <th>4050</th>\n",
              "      <td>Kokie Professional Lip Poudre Liquid Matte Liq...</td>\n",
              "      <td>7.0</td>\n",
              "      <td>kokie,cosmetics</td>\n",
              "      <td>https://i5.walmartimages.com/asr/fdd7498c-319f...</td>\n",
              "      <td>3.4</td>\n",
              "    </tr>\n",
              "    <tr>\n",
              "      <th>4084</th>\n",
              "      <td>e.l.f. Mad for Matte 4 Piece Lip Color Set</td>\n",
              "      <td>0.0</td>\n",
              "      <td>cosmetics</td>\n",
              "      <td>https://i5.walmartimages.com/asr/e2d30304-edc9...</td>\n",
              "      <td>0.0</td>\n",
              "    </tr>\n",
              "    <tr>\n",
              "      <th>1559</th>\n",
              "      <td>LOreal Paris Colour Riche Matte Lip Liner, Mat...</td>\n",
              "      <td>495.0</td>\n",
              "      <td>paris</td>\n",
              "      <td>https://i5.walmartimages.com/asr/baf97085-7231...</td>\n",
              "      <td>4.4</td>\n",
              "    </tr>\n",
              "    <tr>\n",
              "      <th>2873</th>\n",
              "      <td>Kokie Professional Lip Poudre Liquid Matte Liq...</td>\n",
              "      <td>7.0</td>\n",
              "      <td>kokie,cosmetics</td>\n",
              "      <td>https://i5.walmartimages.com/asr/31c99d9b-ea11...</td>\n",
              "      <td>3.4</td>\n",
              "    </tr>\n",
              "    <tr>\n",
              "      <th>3023</th>\n",
              "      <td>Be Matte Lipstick - Pink</td>\n",
              "      <td>2.0</td>\n",
              "      <td>city,color</td>\n",
              "      <td>https://i5.walmartimages.com/asr/4425a13e-085f...</td>\n",
              "      <td>3.0</td>\n",
              "    </tr>\n",
              "    <tr>\n",
              "      <th>4541</th>\n",
              "      <td>Be Matte Lipstick - Soft Pink</td>\n",
              "      <td>2.0</td>\n",
              "      <td>city,color</td>\n",
              "      <td>https://i5.walmartimages.com/asr/69e1ec63-be5e...</td>\n",
              "      <td>3.0</td>\n",
              "    </tr>\n",
              "  </tbody>\n",
              "</table>\n",
              "</div>"
            ],
            "text/plain": [
              "                                                   Name  ReviewsCount  \\\n",
              "3     Kokie Professional Matte Lipstick, Hot Berry, ...           0.0   \n",
              "3406  Kokie Professional Matte Lipstick, Firecracker...           0.0   \n",
              "546   Kokie Professional Matte Lipstick, Kiss Me, 0....           0.0   \n",
              "2406           L.A. Colors Matte Lipstick, Tender Matte           3.0   \n",
              "4050  Kokie Professional Lip Poudre Liquid Matte Liq...           7.0   \n",
              "4084         e.l.f. Mad for Matte 4 Piece Lip Color Set           0.0   \n",
              "1559  LOreal Paris Colour Riche Matte Lip Liner, Mat...         495.0   \n",
              "2873  Kokie Professional Lip Poudre Liquid Matte Liq...           7.0   \n",
              "3023                           Be Matte Lipstick - Pink           2.0   \n",
              "4541                      Be Matte Lipstick - Soft Pink           2.0   \n",
              "\n",
              "                Brand                                           ImageUrl  \\\n",
              "3     kokie,cosmetics  https://i5.walmartimages.com/asr/25b4b467-bc61...   \n",
              "3406  kokie,cosmetics  https://i5.walmartimages.com/asr/8312221b-ed22...   \n",
              "546   kokie,cosmetics  https://i5.walmartimages.com/asr/27dd82a2-2b9c...   \n",
              "2406           colors  https://i5.walmartimages.com/asr/271264fb-e8c3...   \n",
              "4050  kokie,cosmetics  https://i5.walmartimages.com/asr/fdd7498c-319f...   \n",
              "4084        cosmetics  https://i5.walmartimages.com/asr/e2d30304-edc9...   \n",
              "1559            paris  https://i5.walmartimages.com/asr/baf97085-7231...   \n",
              "2873  kokie,cosmetics  https://i5.walmartimages.com/asr/31c99d9b-ea11...   \n",
              "3023       city,color  https://i5.walmartimages.com/asr/4425a13e-085f...   \n",
              "4541       city,color  https://i5.walmartimages.com/asr/69e1ec63-be5e...   \n",
              "\n",
              "      Rating  \n",
              "3        0.0  \n",
              "3406     0.0  \n",
              "546      0.0  \n",
              "2406     3.7  \n",
              "4050     3.4  \n",
              "4084     0.0  \n",
              "1559     4.4  \n",
              "2873     3.4  \n",
              "3023     3.0  \n",
              "4541     3.0  "
            ]
          },
          "execution_count": 48,
          "metadata": {},
          "output_type": "execute_result"
        }
      ],
      "source": [
        "target_user_id = 4\n",
        "item_name = 'Kokie Professional Matte Lipstick, Hot Berry, 0.14 fl oz'\n",
        "hybrid_recommendations = hybrid_recommendation_system(new_data, target_user_id, item_name, top_n = 10)\n",
        "\n",
        "print(f'Top 10 Hybrid Recommendation System are:')\n",
        "hybrid_recommendations"
      ]
    }
  ],
  "metadata": {
    "colab": {
      "provenance": []
    },
    "kernelspec": {
      "display_name": "venv",
      "language": "python",
      "name": "python3"
    },
    "language_info": {
      "codemirror_mode": {
        "name": "ipython",
        "version": 3
      },
      "file_extension": ".py",
      "mimetype": "text/x-python",
      "name": "python",
      "nbconvert_exporter": "python",
      "pygments_lexer": "ipython3",
      "version": "3.11.5"
    }
  },
  "nbformat": 4,
  "nbformat_minor": 0
}
